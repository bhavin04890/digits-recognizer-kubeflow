import os
FB_DATA_VIP_URL = "http://10.21.127.71" #URL with IP or hostname of your FlashBlade's data VIP

FB_S3_ACCESS_KEY = "PSFBSAZQJMLBOLBJPJKGGDPOKNBFJKNKEKCIBDBKC"
FB_S3_SECRET_KEY = "A634182A4ada951da+10d6/A0421BC11f17471eDMKE"

s3 = boto3.client('s3', aws_access_key_id=FB_S3_ACCESS_KEY, aws_secret_access_key=FB_S3_SECRET_KEY, endpoint_url=FB_DATA_VIP_URL)

response = s3.list_buckets()
    
fb_bucket = "model-test-bucket"
    
def create_bucket(bucket_name, region=None):
    # Create bucket
    try:
        if region is None:
            s3_client = boto3.client('s3', aws_access_key_id=FB_S3_ACCESS_KEY, aws_secret_access_key=FB_S3_SECRET_KEY, endpoint_url=FB_DATA_VIP_URL)
            s3_client.create_bucket(Bucket=bucket_name)
        else:
            s3_client = boto3.client('s3', region_name=region)
            location = {'LocationConstraint': region}
            s3_client.create_bucket(Bucket=bucket_name,
                                    CreateBucketConfiguration=location)
    except ClientError as e:
        logging.error(e)
        return False
    return True

create_bucket(fb_bucket)
    
def upload_files_to_s3(local_folder, bucket_name, s3_prefix=''):
    # Initialize the S3 client
    s3 = boto3.client('s3', aws_access_key_id=FB_S3_ACCESS_KEY, aws_secret_access_key=FB_S3_SECRET_KEY, endpoint_url=FB_DATA_VIP_URL)

    # Walk through the local folder and upload each file to the S3 bucket
    for root, _, files in os.walk(local_folder):
        for file in files:
            local_file_path = os.path.join(root, file)
            s3_key = os.path.join(s3_prefix, os.path.relpath(local_file_path, local_folder))
            # Upload the file to the S3 bucket
            s3.upload_file(local_file_path, bucket_name, s3_key)


upload_files_to_s3("models/detect-digits",fb_bucket,"models/detect-digits")            

for key in s3.list_objects(Bucket=fb_bucket)['Contents']:
    print(key['Key'])
