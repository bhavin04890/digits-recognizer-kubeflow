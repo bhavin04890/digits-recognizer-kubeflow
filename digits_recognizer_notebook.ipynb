{
 "cells": [
  {
   "cell_type": "markdown",
   "metadata": {
    "id": "c6q8_gU4RClu"
   },
   "source": [
    "# Exploring the MNIST Digits Dataset"
   ]
  },
  {
   "cell_type": "markdown",
   "metadata": {
    "id": "gRRWy7XpRHbq"
   },
   "source": [
    "## Importing Data"
   ]
  },
  {
   "cell_type": "code",
   "execution_count": 31,
   "metadata": {
    "colab": {
     "base_uri": "https://localhost:8080/"
    },
    "id": "X2D5_56r3cSM",
    "outputId": "a2ed720b-afc4-495b-c57a-54f10eda2bcb"
   },
   "outputs": [
    {
     "name": "stdout",
     "output_type": "stream",
     "text": [
      "Requirement already satisfied: py-pure-client in /opt/conda/lib/python3.8/site-packages (1.42.1)\n",
      "Requirement already satisfied: certifi<=2023.7.22,>=2022.9.24 in /opt/conda/lib/python3.8/site-packages (from py-pure-client) (2023.7.22)\n",
      "Requirement already satisfied: six<=1.16.0,>=1.10 in /opt/conda/lib/python3.8/site-packages (from py-pure-client) (1.15.0)\n",
      "Requirement already satisfied: python-dateutil<=2.8.1,>=2.5.3 in /opt/conda/lib/python3.8/site-packages (from py-pure-client) (2.8.1)\n",
      "Requirement already satisfied: setuptools<=68.1.2,>=21.0.0 in /opt/conda/lib/python3.8/site-packages (from py-pure-client) (65.3.0)\n",
      "Requirement already satisfied: urllib3<=1.26.12,>=1.26.5 in /opt/conda/lib/python3.8/site-packages (from py-pure-client) (1.26.11)\n",
      "Requirement already satisfied: paramiko<=2.12.0,>=2.11.0 in /opt/conda/lib/python3.8/site-packages (from py-pure-client) (2.12.0)\n",
      "Requirement already satisfied: pyjwt<=2.8.0,>=2.0.0 in /opt/conda/lib/python3.8/site-packages (from py-pure-client) (2.4.0)\n",
      "Requirement already satisfied: requests<=2.31.0,>=2.20.1 in /opt/conda/lib/python3.8/site-packages (from py-pure-client) (2.28.1)\n",
      "Requirement already satisfied: bcrypt>=3.1.3 in /opt/conda/lib/python3.8/site-packages (from paramiko<=2.12.0,>=2.11.0->py-pure-client) (4.0.1)\n",
      "Requirement already satisfied: cryptography>=2.5 in /opt/conda/lib/python3.8/site-packages (from paramiko<=2.12.0,>=2.11.0->py-pure-client) (37.0.4)\n",
      "Requirement already satisfied: pynacl>=1.0.1 in /opt/conda/lib/python3.8/site-packages (from paramiko<=2.12.0,>=2.11.0->py-pure-client) (1.5.0)\n",
      "Requirement already satisfied: charset-normalizer<3,>=2 in /opt/conda/lib/python3.8/site-packages (from requests<=2.31.0,>=2.20.1->py-pure-client) (2.1.1)\n",
      "Requirement already satisfied: idna<4,>=2.5 in /opt/conda/lib/python3.8/site-packages (from requests<=2.31.0,>=2.20.1->py-pure-client) (3.3)\n",
      "Requirement already satisfied: cffi>=1.12 in /opt/conda/lib/python3.8/site-packages (from cryptography>=2.5->paramiko<=2.12.0,>=2.11.0->py-pure-client) (1.14.6)\n",
      "Requirement already satisfied: pycparser in /opt/conda/lib/python3.8/site-packages (from cffi>=1.12->cryptography>=2.5->paramiko<=2.12.0,>=2.11.0->py-pure-client) (2.21)\n",
      "Collecting boto3\n",
      "  Downloading boto3-1.28.75-py3-none-any.whl.metadata (6.7 kB)\n",
      "Collecting botocore<1.32.0,>=1.31.75 (from boto3)\n",
      "  Downloading botocore-1.31.75-py3-none-any.whl.metadata (6.1 kB)\n",
      "Collecting jmespath<2.0.0,>=0.7.1 (from boto3)\n",
      "  Downloading jmespath-1.0.1-py3-none-any.whl (20 kB)\n",
      "Collecting s3transfer<0.8.0,>=0.7.0 (from boto3)\n",
      "  Downloading s3transfer-0.7.0-py3-none-any.whl.metadata (1.8 kB)\n",
      "Requirement already satisfied: python-dateutil<3.0.0,>=2.1 in /opt/conda/lib/python3.8/site-packages (from botocore<1.32.0,>=1.31.75->boto3) (2.8.1)\n",
      "Requirement already satisfied: urllib3<1.27,>=1.25.4 in /opt/conda/lib/python3.8/site-packages (from botocore<1.32.0,>=1.31.75->boto3) (1.26.11)\n",
      "Requirement already satisfied: six>=1.5 in /opt/conda/lib/python3.8/site-packages (from python-dateutil<3.0.0,>=2.1->botocore<1.32.0,>=1.31.75->boto3) (1.15.0)\n",
      "Downloading boto3-1.28.75-py3-none-any.whl (135 kB)\n",
      "\u001b[2K   \u001b[90m━━━━━━━━━━━━━━━━━━━━━━━━━━━━━━━━━━━━━━━━\u001b[0m \u001b[32m135.8/135.8 kB\u001b[0m \u001b[31m11.3 MB/s\u001b[0m eta \u001b[36m0:00:00\u001b[0m\n",
      "\u001b[?25hDownloading botocore-1.31.75-py3-none-any.whl (11.3 MB)\n",
      "\u001b[2K   \u001b[90m━━━━━━━━━━━━━━━━━━━━━━━━━━━━━━━━━━━━━━━━\u001b[0m \u001b[32m11.3/11.3 MB\u001b[0m \u001b[31m40.3 MB/s\u001b[0m eta \u001b[36m0:00:00\u001b[0m00:01\u001b[0m00:01\u001b[0m\n",
      "\u001b[?25hDownloading s3transfer-0.7.0-py3-none-any.whl (79 kB)\n",
      "\u001b[2K   \u001b[90m━━━━━━━━━━━━━━━━━━━━━━━━━━━━━━━━━━━━━━━━\u001b[0m \u001b[32m79.8/79.8 kB\u001b[0m \u001b[31m8.4 MB/s\u001b[0m eta \u001b[36m0:00:00\u001b[0m\n",
      "\u001b[?25hInstalling collected packages: jmespath, botocore, s3transfer, boto3\n",
      "Successfully installed boto3-1.28.75 botocore-1.31.75 jmespath-1.0.1 s3transfer-0.7.0\n"
     ]
    }
   ],
   "source": [
    "import numpy as np\n",
    "import pandas as pd\n",
    "import matplotlib.pyplot as plt\n",
    "from tensorflow import keras\n",
    "import tensorflow as tf\n",
    "\n",
    "import sys\n",
    "!{sys.executable} -m pip install py-pure-client\n",
    "!{sys.executable} -m pip install boto3\n",
    "\n",
    "import boto3\n",
    "import logging\n",
    "from botocore.exceptions import ClientError\n",
    "from botocore.client import Config\n",
    "\n",
    "(x_train, y_train), (x_test, y_test) = keras.datasets.mnist.load_data()"
   ]
  },
  {
   "cell_type": "markdown",
   "metadata": {
    "id": "Z2FU9cyERJZ3",
    "tags": []
   },
   "source": [
    "## Exploring Data"
   ]
  },
  {
   "cell_type": "code",
   "execution_count": 33,
   "metadata": {
    "colab": {
     "base_uri": "https://localhost:8080/"
    },
    "id": "boaW64qdDryf",
    "outputId": "a15994bc-87a4-42c8-f105-07b8256952ba"
   },
   "outputs": [
    {
     "name": "stdout",
     "output_type": "stream",
     "text": [
      "x_train shape: (60000, 28, 28)\n",
      "y_train shape: (60000,)\n",
      "x_test shape: (10000, 28, 28)\n",
      "y_test shape: (10000,)\n"
     ]
    }
   ],
   "source": [
    "# check shape of the data\n",
    "\n",
    "print(f\"x_train shape: {x_train.shape}\")\n",
    "print(f\"y_train shape: {y_train.shape}\")\n",
    "\n",
    "print(f\"x_test shape: {x_test.shape}\")\n",
    "print(f\"y_test shape: {y_test.shape}\")"
   ]
  },
  {
   "cell_type": "code",
   "execution_count": 34,
   "metadata": {
    "colab": {
     "base_uri": "https://localhost:8080/",
     "height": 282
    },
    "id": "F5DH7XCyDx6p",
    "outputId": "8b30fe19-cd81-4773-a47c-2592922866f5"
   },
   "outputs": [
    {
     "data": {
      "image/png": "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\n",
      "text/plain": [
       "<Figure size 640x480 with 1 Axes>"
      ]
     },
     "metadata": {},
     "output_type": "display_data"
    },
    {
     "name": "stdout",
     "output_type": "stream",
     "text": [
      "correct number: 5\n"
     ]
    }
   ],
   "source": [
    "# visualize single data instances\n",
    "\n",
    "img_no = 0 #change the number to display other examples\n",
    "\n",
    "first_number = x_train[img_no]\n",
    "plt.imshow(first_number, cmap='gray') # visualize the numbers in gray mode\n",
    "plt.show()\n",
    "print(f\"correct number: {y_train[img_no]}\")"
   ]
  },
  {
   "cell_type": "markdown",
   "metadata": {
    "id": "jygNEJ4dRm3o"
   },
   "source": [
    "## Preparing Data & Splitting"
   ]
  },
  {
   "cell_type": "code",
   "execution_count": 35,
   "metadata": {
    "colab": {
     "base_uri": "https://localhost:8080/"
    },
    "id": "7B7d7i3uThoq",
    "outputId": "20ca74ea-0844-4a93-c7bd-8e48d454d65d"
   },
   "outputs": [
    {
     "name": "stdout",
     "output_type": "stream",
     "text": [
      "train X shape: (60000, 28, 28, 1)\n",
      "test X shape: (10000, 28, 28, 1)\n"
     ]
    }
   ],
   "source": [
    "# reshaping the data\n",
    "# reshaping pixels in a 28x28px image with greyscale, canal = 1. This is needed for the Keras API\n",
    "x_train = x_train.reshape(-1,28,28,1)\n",
    "x_test = x_test.reshape(-1,28,28,1)\n",
    "\n",
    "# normalizing the data\n",
    "# each pixel has a value between 0-255. Here we divide by 255, to get values from 0-1\n",
    "x_train = x_train / 255\n",
    "x_test = x_test / 255\n",
    "\n",
    "print(f\"train X shape: {x_train.shape}\")\n",
    "print(f\"test X shape: {x_test.shape}\")"
   ]
  },
  {
   "cell_type": "markdown",
   "metadata": {
    "id": "dOtAx2G9hD2W"
   },
   "source": [
    "## Model Building"
   ]
  },
  {
   "cell_type": "code",
   "execution_count": 37,
   "metadata": {
    "colab": {
     "base_uri": "https://localhost:8080/"
    },
    "id": "DI795SvBhGPW",
    "outputId": "b66e6a8c-4dba-4f0d-8675-f5bd9f3ff594"
   },
   "outputs": [
    {
     "name": "stdout",
     "output_type": "stream",
     "text": [
      "Model: \"sequential_1\"\n",
      "_________________________________________________________________\n",
      "Layer (type)                 Output Shape              Param #   \n",
      "=================================================================\n",
      "conv2d_3 (Conv2D)            (None, 26, 26, 64)        640       \n",
      "_________________________________________________________________\n",
      "max_pooling2d_3 (MaxPooling2 (None, 13, 13, 64)        0         \n",
      "_________________________________________________________________\n",
      "conv2d_4 (Conv2D)            (None, 11, 11, 64)        36928     \n",
      "_________________________________________________________________\n",
      "max_pooling2d_4 (MaxPooling2 (None, 5, 5, 64)          0         \n",
      "_________________________________________________________________\n",
      "conv2d_5 (Conv2D)            (None, 3, 3, 64)          36928     \n",
      "_________________________________________________________________\n",
      "max_pooling2d_5 (MaxPooling2 (None, 1, 1, 64)          0         \n",
      "_________________________________________________________________\n",
      "flatten_1 (Flatten)          (None, 64)                0         \n",
      "_________________________________________________________________\n",
      "dense_3 (Dense)              (None, 64)                4160      \n",
      "_________________________________________________________________\n",
      "dense_4 (Dense)              (None, 32)                2080      \n",
      "_________________________________________________________________\n",
      "dense_5 (Dense)              (None, 10)                330       \n",
      "=================================================================\n",
      "Total params: 81,066\n",
      "Trainable params: 81,066\n",
      "Non-trainable params: 0\n",
      "_________________________________________________________________\n"
     ]
    }
   ],
   "source": [
    "model = keras.models.Sequential()\n",
    "model.add(keras.layers.Conv2D(64, (3, 3), activation='relu', input_shape=(28,28,1)))\n",
    "model.add(keras.layers.MaxPool2D(2, 2))\n",
    "\n",
    "model.add(keras.layers.Conv2D(64, (3, 3), activation='relu'))\n",
    "model.add(keras.layers.MaxPool2D(2, 2))\n",
    "\n",
    "model.add(keras.layers.Conv2D(64, (3, 3), activation='relu'))\n",
    "model.add(keras.layers.MaxPool2D(2, 2))\n",
    "\n",
    "model.add(keras.layers.Flatten())\n",
    "model.add(keras.layers.Dense(64, activation='relu'))\n",
    "\n",
    "model.add(keras.layers.Dense(32, activation='relu'))\n",
    "\n",
    "model.add(keras.layers.Dense(10, activation='softmax')) #output are 10 classes, numbers from 0-9\n",
    "\n",
    "#show model summary - how it looks\n",
    "model.summary()"
   ]
  },
  {
   "cell_type": "code",
   "execution_count": 38,
   "metadata": {
    "id": "UpdaKIGoxHiC"
   },
   "outputs": [],
   "source": [
    "#compile the model - we want to have a multiple outcome\n",
    "model.compile(optimizer=\"adam\",\n",
    "              loss=\"sparse_categorical_crossentropy\",\n",
    "              metrics=['accuracy'])"
   ]
  },
  {
   "cell_type": "code",
   "execution_count": 39,
   "metadata": {
    "colab": {
     "base_uri": "https://localhost:8080/"
    },
    "id": "qHaJJk-gxJLq",
    "outputId": "f2d4c7d6-b164-4c54-9ab7-a648169e345b"
   },
   "outputs": [
    {
     "name": "stderr",
     "output_type": "stream",
     "text": [
      "2023-11-01 17:21:45.894032: W tensorflow/core/framework/cpu_allocator_impl.cc:80] Allocation of 188160000 exceeds 10% of free system memory.\n"
     ]
    },
    {
     "name": "stdout",
     "output_type": "stream",
     "text": [
      "1875/1875 [==============================] - 56s 30ms/step - loss: 0.2275 - accuracy: 0.9283\n"
     ]
    }
   ],
   "source": [
    "#fit the model and return the history while training\n",
    "history = model.fit(\n",
    "  x=x_train,\n",
    "  y=y_train,\n",
    "  epochs=2\n",
    ")"
   ]
  },
  {
   "cell_type": "markdown",
   "metadata": {
    "id": "rvcNPDwWQhib"
   },
   "source": [
    "## Model Evaluation"
   ]
  },
  {
   "cell_type": "code",
   "execution_count": 40,
   "metadata": {},
   "outputs": [
    {
     "name": "stdout",
     "output_type": "stream",
     "text": [
      "INFO:tensorflow:Assets written to: models/detect-digits/assets\n"
     ]
    }
   ],
   "source": [
    "keras.models.save_model(model,\"models/detect-digits\")"
   ]
  },
  {
   "cell_type": "code",
   "execution_count": 56,
   "metadata": {},
   "outputs": [
    {
     "name": "stdout",
     "output_type": "stream",
     "text": [
      "Existing buckets:\n",
      "  demo-artifact\n",
      "  demo-bucket\n",
      "demo-/keras_metadata.pb\n",
      "demo-/saved_model.pb\n",
      "demo-/variables/variables.data-00000-of-00001\n",
      "demo-/variables/variables.index\n",
      "models/detect-digits/keras_metadata.pb\n",
      "models/detect-digits/saved_model.pb\n",
      "models/detect-digits/variables/variables.data-00000-of-00001\n",
      "models/detect-digits/variables/variables.index\n"
     ]
    }
   ],
   "source": [
    "FB_DATA_VIP_URL = \"http://10.21.127.71\" #URL with IP or hostname of your FlashBlade's data VIP\n",
    "\n",
    "FB_S3_ACCESS_KEY = \"PSFBSAZQJMLBOLBJPJKGGDPOKNBFJKNKEKCIBDBKC\"\n",
    "FB_S3_SECRET_KEY = \"A634182A4ada951da+10d6/A0421BC11f17471eDMKE\"\n",
    "\n",
    "s3 = boto3.client('s3', aws_access_key_id=FB_S3_ACCESS_KEY, aws_secret_access_key=FB_S3_SECRET_KEY, endpoint_url=FB_DATA_VIP_URL)\n",
    "\n",
    "bucket_name = \"demo-bucket\""
    "\n"
    "def create_bucket(bucket_name, region=None):\n"
    "# Create bucket"
    "try:\n"
    "    if region is None:\n"
    "        s3_client = boto3.client('s3', aws_access_key_id=FB_S3_ACCESS_KEY, aws_secret_access_key=FB_S3_SECRET_KEY, endpoint_url=FB_DATA_VIP_URL)\n"
    "        s3_client.create_bucket(Bucket=bucket_name)\n"
    "    else:\n"
    "        s3_client = boto3.client('s3', region_name=region)\n"
    "        location = {'LocationConstraint': region}\n"
    "        s3_client.create_bucket(Bucket=bucket_name,\n"
    "                                CreateBucketConfiguration=location)\n"
    "except ClientError as e:\n"
    "    logging.error(e)\n"
    "    return False\n"
    "return True\n"

    "create_bucket(bucket_name)""
    "response = s3.list_buckets()\n",
    "\n",
    "# Output the bucket names\n",
    "print('Existing buckets:')\n",
    "for bucket in response['Buckets']:\n",
    "    print(f'  {bucket[\"Name\"]}')\n",
    "    \n",
    "fb_bucket = \"demo-artifact\"\n",
    "    \n",
    "def upload_files_to_s3(local_folder, bucket_name, s3_prefix=''):\n",
    "    # Initialize the S3 client\n",
    "    s3 = boto3.client('s3', aws_access_key_id=FB_S3_ACCESS_KEY, aws_secret_access_key=FB_S3_SECRET_KEY, endpoint_url=FB_DATA_VIP_URL)\n",
    "\n",
    "    # Walk through the local folder and upload each file to the S3 bucket\n",
    "    for root, _, files in os.walk(local_folder):\n",
    "        for file in files:\n",
    "            local_file_path = os.path.join(root, file)\n",
    "            s3_key = os.path.join(s3_prefix, os.path.relpath(local_file_path, local_folder))\n",
    "\n",
    "            # Upload the file to the S3 bucket\n",
    "            s3.upload_file(local_file_path, bucket_name, s3_key)\n",
    "\n",
    "upload_files_to_s3(\"models/detect-digits\",fb_bucket,\"models/detect-digits\")            \n",
    "\n",
    "for key in s3.list_objects(Bucket='demo-artifact')['Contents']:\n",
    "    print(key['Key'])"
   ]
  },
  {
   "cell_type": "code",
   "execution_count": 57,
   "metadata": {
    "colab": {
     "base_uri": "https://localhost:8080/"
    },
    "id": "bypXyDxMQj0u",
    "outputId": "2f679161-a921-4abd-bac5-b2436e9bcbe8"
   },
   "outputs": [
    {
     "name": "stdout",
     "output_type": "stream",
     "text": [
      "313/313 [==============================] - 3s 9ms/step - loss: 0.1060 - accuracy: 0.9676\n"
     ]
    }
   ],
   "source": [
    "# Test the model against the test dataset\n",
    "# Returns the loss value & metrics values for the model in test mode.\n",
    "model_loss, model_accuracy = model.evaluate(x=x_test,y=y_test)"
   ]
  },
  {
   "cell_type": "code",
   "execution_count": 58,
   "metadata": {
    "colab": {
     "base_uri": "https://localhost:8080/",
     "height": 297
    },
    "id": "wVohS46mxRDe",
    "outputId": "b64db43b-07f7-4b2e-e801-e7791484a6e7"
   },
   "outputs": [
    {
     "data": {
      "text/plain": [
       "[Text(0.5, 23.52222222222222, 'Predicted'),\n",
       " Text(50.722222222222214, 0.5, 'Actual')]"
      ]
     },
     "execution_count": 58,
     "metadata": {},
     "output_type": "execute_result"
    },
    {
     "data": {
      "image/png": "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\n",
      "text/plain": [
       "<Figure size 640x480 with 2 Axes>"
      ]
     },
     "metadata": {},
     "output_type": "display_data"
    }
   ],
   "source": [
    "# Confusion Matrix\n",
    "\n",
    "# Generates output predictions for the input samples.\n",
    "test_predictions = model.predict(x=x_test)\n",
    "\n",
    "# Returns the indices of the maximum values along an axis.\n",
    "test_predictions = np.argmax(test_predictions,axis=1) # the prediction outputs 10 values, we take the index number of the highest value, which is the prediction of the model\n",
    "\n",
    "# generate confusion matrix\n",
    "confusion_matrix = tf.math.confusion_matrix(labels=y_test,predictions=test_predictions)\n",
    "\n",
    "# plot confusion matrix\n",
    "import seaborn as sns\n",
    "import matplotlib.pyplot as plt\n",
    "h = sns.heatmap(confusion_matrix,annot=True,fmt='d')\n",
    "h.set(xlabel='Predicted', ylabel='Actual')"
   ]
  },
  {
   "cell_type": "code",
   "execution_count": null,
   "metadata": {},
   "outputs": [],
   "source": []
  }
 ],
 "metadata": {
  "colab": {
   "collapsed_sections": [],
   "name": "digits-recognizer.ipynb",
   "provenance": []
  },
  "kernelspec": {
   "display_name": "Python 3 (ipykernel)",
   "language": "python",
   "name": "python3"
  },
  "language_info": {
   "codemirror_mode": {
    "name": "ipython",
    "version": 3
   },
   "file_extension": ".py",
   "mimetype": "text/x-python",
   "name": "python",
   "nbconvert_exporter": "python",
   "pygments_lexer": "ipython3",
   "version": "3.8.10"
  }
 },
 "nbformat": 4,
 "nbformat_minor": 4
}
